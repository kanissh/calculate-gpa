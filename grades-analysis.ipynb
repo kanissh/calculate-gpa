{
 "cells": [
  {
   "cell_type": "markdown",
   "id": "aa53ee59",
   "metadata": {},
   "source": [
    "## Input data format \n",
    "\n",
    "The input file is of csv format. <br/>\n",
    "The input file should be named \"grades.csv\" and be in the same directory this workbook is in. <br/>\n",
    "\n",
    "#### Below shows a sample input table\n",
    "|code|course|year|sem|credits|grade|\n",
    "|----|------|----|---|-------|-----|\n",
    "|CH101|Principles of Chemistry I|2017/2018|I|3|A|\n",
    "|CH102|Principles of Chemistry II|2017/2018|II|3|A|\n",
    "\n",
    "<br/>Hint: Copy results from the LMS and paste it into notepad, then save as csv. "
   ]
  },
  {
   "cell_type": "code",
   "execution_count": null,
   "id": "f7128fc1",
   "metadata": {},
   "outputs": [],
   "source": [
    "import pandas as pd\n",
    "import math"
   ]
  },
  {
   "cell_type": "code",
   "execution_count": null,
   "id": "0a734759",
   "metadata": {},
   "outputs": [],
   "source": [
    "def set_level(df):\n",
    "    for i in range(0, df.shape[0]):\n",
    "        code = df.loc[i,\"code\"].strip().replace(\" \",\"\")\n",
    "        if(code[2] == \"1\"):\n",
    "            df.loc[i,\"level\"] = \"100\"\n",
    "        elif(code[2] == \"2\"):\n",
    "            df.loc[i,\"level\"] = \"200\"\n",
    "        elif(code[2] == \"3\"):\n",
    "            df.loc[i,\"level\"] = \"300\"\n",
    "        elif(code[2] == \"4\"):\n",
    "            df.loc[i,\"level\"] = \"400\""
   ]
  },
  {
   "cell_type": "code",
   "execution_count": null,
   "id": "05edccf3",
   "metadata": {},
   "outputs": [],
   "source": [
    "#Add additional course codes as required \n",
    "def set_subjects(df):\n",
    "    for i in range(0, df.shape[0]):\n",
    "        sub = df.loc[i,\"code\"].strip().replace(\" \",\"\")[0:2]\n",
    "        switcher = {\n",
    "            \"CS\" : \"Computer Science\",\n",
    "            \"ST\" : \"Statistics\",\n",
    "            \"CH\" : \"Chemistry\",\n",
    "            \"MT\" : \"Mathematics\",\n",
    "            \"EN\" : \"ENGLISH\",\n",
    "            \"GL\" : \"Geology\"\n",
    "        }\n",
    "        \n",
    "        df.loc[i,\"subject\"] = switcher.get(sub, \"Subject X\")\n",
    "        "
   ]
  },
  {
   "cell_type": "code",
   "execution_count": null,
   "id": "fc882121",
   "metadata": {},
   "outputs": [],
   "source": [
    "def set_grade_points(df):\n",
    "    for i in range(0, df.shape[0]):\n",
    "        grade = df.loc[i,\"grade\"]\n",
    "        switcher = {\n",
    "            \"A+\": 4.0, \n",
    "            \"B+\": 3.3, \n",
    "            \"C+\": 2.3, \n",
    "            \"D+\": 1.3, \n",
    "            \"A\": 4.0, \n",
    "            \"B\": 3.0, \n",
    "            \"C\": 2.0, \n",
    "            \"D\": 1.0,\n",
    "            \"A-\": 3.7, \n",
    "            \"B-\": 2.7, \n",
    "            \"C-\": 1.7, \n",
    "            \"E\": 0\n",
    "        }\n",
    "        df.loc[i,\"grade_point\"] = switcher.get(grade, -1)"
   ]
  },
  {
   "cell_type": "code",
   "execution_count": null,
   "id": "46e57827",
   "metadata": {},
   "outputs": [],
   "source": [
    "def cal_gpa(level, df):\n",
    "    \n",
    "    df_selected = df[df['level']==level].copy()\n",
    "    df_selected.reset_index(drop=True, inplace=True)\n",
    "    credit_grade_product_sum = 0\n",
    "    total_credits = 0\n",
    "    \n",
    "    for i in range(0,df_selected.shape[0]):\n",
    "        grade_point = df_selected.loc[i,'grade_point']\n",
    "        \n",
    "        if grade_point != -1.0:\n",
    "            credits = df_selected.loc[i,'credits']\n",
    "            credit_grade_product_sum = credit_grade_product_sum + (credits*grade_point)\n",
    "            total_credits = total_credits + credits\n",
    "    \n",
    "    return credit_grade_product_sum/total_credits"
   ]
  },
  {
   "cell_type": "code",
   "execution_count": null,
   "id": "ffe1f6f0",
   "metadata": {},
   "outputs": [],
   "source": [
    "def cal_final_gpa(df):\n",
    "    gpa_100L = cal_gpa(\"100\", df)\n",
    "    gpa_200L = cal_gpa(\"200\", df)\n",
    "    gpa_300L = cal_gpa(\"300\", df)\n",
    "    gpa_400L = cal_gpa(\"400\", df)\n",
    "\n",
    "    gpa = (0.2 * gpa_100L) + (0.2 * gpa_200L) + (0.3 * gpa_300L) + (0.3 * gpa_400L) \n",
    "    \n",
    "    return round(gpa,3)"
   ]
  },
  {
   "cell_type": "code",
   "execution_count": null,
   "id": "78bcb7a1",
   "metadata": {},
   "outputs": [],
   "source": [
    "#Add courses to be removed into a list (Add course code)\n",
    "remove_courses = ['coursecode1', 'coursecode2']\n",
    "\n",
    "# remove_courses = ['CH101', 'CS100']"
   ]
  },
  {
   "cell_type": "code",
   "execution_count": null,
   "id": "1153cfd6",
   "metadata": {},
   "outputs": [],
   "source": [
    "#import data\n",
    "grades = pd.read_csv('grades.csv')\n",
    "grades = grades.loc[:, ['code','course','year','sem','credits','grade']]\n",
    "\n",
    "set_subjects(grades)\n",
    "set_level(grades)\n",
    "set_grade_points(grades)\n",
    "\n",
    "grades_gpa = grades.copy()\n",
    "\n",
    "for rm_course in remove_courses:\n",
    "    grades_gpa = grades_gpa.drop(grades_gpa[grades_gpa['code'] == rm_course].index)"
   ]
  },
  {
   "cell_type": "markdown",
   "id": "92ccb5c6",
   "metadata": {},
   "source": [
    "## Overall GPA"
   ]
  },
  {
   "cell_type": "code",
   "execution_count": null,
   "id": "535b1b1a",
   "metadata": {},
   "outputs": [],
   "source": [
    "#overall gpa\n",
    "final_gpa = cal_final_gpa(grades_gpa)\n",
    "total_credits = grades_gpa['credits'].sum()\n",
    "\n",
    "print(f'GPA: {final_gpa}\\nTotal credits: {total_credits}')"
   ]
  },
  {
   "cell_type": "markdown",
   "id": "ed26bf66",
   "metadata": {},
   "source": [
    "## Credits per level"
   ]
  },
  {
   "cell_type": "code",
   "execution_count": null,
   "id": "f7766b90",
   "metadata": {},
   "outputs": [],
   "source": [
    "# credits per level\n",
    "credits_100 = grades_gpa[grades_gpa['level'] == \"100\"]['credits'].sum()\n",
    "credits_200 = grades_gpa[grades_gpa['level'] == \"200\"]['credits'].sum()\n",
    "credits_300 = grades_gpa[grades_gpa['level'] == \"300\"]['credits'].sum()\n",
    "credits_400 = grades_gpa[grades_gpa['level'] == \"400\"]['credits'].sum()\n",
    "\n",
    "print(f\"100L : {credits_100}\\n200L : {credits_200}\\n300L : {credits_300}\\n400L : {credits_400}\")"
   ]
  },
  {
   "cell_type": "markdown",
   "id": "d4f2905d",
   "metadata": {},
   "source": [
    "## Credits per year"
   ]
  },
  {
   "cell_type": "code",
   "execution_count": null,
   "id": "5953bf67",
   "metadata": {},
   "outputs": [],
   "source": [
    "#credits per year\n",
    "grades_gpa.groupby(\"year\")['credits'].sum()"
   ]
  },
  {
   "cell_type": "markdown",
   "id": "8c4c680b",
   "metadata": {},
   "source": [
    "## Credits per subject"
   ]
  },
  {
   "cell_type": "code",
   "execution_count": null,
   "id": "c45d144e",
   "metadata": {},
   "outputs": [],
   "source": [
    "#credits per subject\n",
    "grades_gpa.groupby(\"subject\")['credits'].sum()"
   ]
  },
  {
   "cell_type": "markdown",
   "id": "106c32f0",
   "metadata": {},
   "source": [
    "## Check for percentage of A and A+ in 300L + 400L"
   ]
  },
  {
   "cell_type": "code",
   "execution_count": null,
   "id": "0d514cbf",
   "metadata": {},
   "outputs": [],
   "source": [
    "total_300L_400L = grades_gpa[((grades_gpa['level']==\"400\") | (grades_gpa['level']==\"300\"))]['credits'].sum()\n",
    "total_A_300L_400L = grades_gpa[((grades_gpa['level']==\"400\") | (grades_gpa['level']==\"300\")) \n",
    "           & ((grades_gpa['grade']==\"A+\") | (grades_gpa['grade']==\"A\"))]['credits'].sum()\n",
    "\n",
    "print(f'Total number of credits in 300L + 400L: {total_300L_400L}')\n",
    "print(f'Number of credits with A and A+: {total_A_300L_400L}')\n",
    "print(f'\\nPercentage of A and A+ of all 300L + 400L credits: {round((total_A_300L_400L/total_300L_400L)*100, 2)} %')"
   ]
  }
 ],
 "metadata": {
  "kernelspec": {
   "display_name": "Python 3 (ipykernel)",
   "language": "python",
   "name": "python3"
  },
  "language_info": {
   "codemirror_mode": {
    "name": "ipython",
    "version": 3
   },
   "file_extension": ".py",
   "mimetype": "text/x-python",
   "name": "python",
   "nbconvert_exporter": "python",
   "pygments_lexer": "ipython3",
   "version": "3.10.2"
  }
 },
 "nbformat": 4,
 "nbformat_minor": 5
}
